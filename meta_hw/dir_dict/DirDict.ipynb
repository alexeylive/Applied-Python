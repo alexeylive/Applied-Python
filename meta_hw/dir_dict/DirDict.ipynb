{
 "cells": [
  {
   "cell_type": "code",
   "execution_count": 15,
   "metadata": {},
   "outputs": [],
   "source": [
    "from collections.abc import MutableMapping\n",
    "import os\n",
    "\n",
    "class DirDict(MutableMapping):\n",
    "    def __init__(self, path):\n",
    "        if not isinstance(path, str):\n",
    "            raise Exception('path must be str')  \n",
    "        if not os.path.exists(path):\n",
    "            raise Exception('No such directory')\n",
    "        self.path = path\n",
    "            \n",
    "    def __delitem__(self, key):\n",
    "        os.remove(self._filepath(key))\n",
    "        \n",
    "    \n",
    "    def __getitem__(self, key):\n",
    "        with open(self._filepath(key), 'r') as f:\n",
    "            data = f.read()\n",
    "        return data\n",
    "    \n",
    "    def __setitem__(self, key, value):\n",
    "        with open(os.path.join(self.path, str(key)),'w') as f:\n",
    "            f.write(str(value))\n",
    "        \n",
    "    def __iter__(self):\n",
    "        for key in os.listdir(self.path):\n",
    "            if os.path.isfile(os.path.join(self.path,key)):\n",
    "                yield key\n",
    "        \n",
    "    def __len__(self):\n",
    "        return len([key for key in self.__iter__()])\n",
    "    \n",
    "    def _filepath(self,file):\n",
    "        file_path = os.path.join(self.path, str(file))\n",
    "        if not os.path.exists(file_path):\n",
    "            raise Exception('Key does not exist')\n",
    "        if not os.path.isfile(file_path):\n",
    "            raise ValueError\n",
    "        return file_path\n",
    "    \n",
    "    def items(self):\n",
    "        return [(key, self.__getitem__(key)) for key in self.__iter__()]\n",
    "\n",
    "    def keys(self):\n",
    "        return [key for key in self.__iter__()]\n",
    "    \n",
    "    def values(self):\n",
    "        return [self.__getitem__(key) for key in self.__iter__()]\n",
    "        "
   ]
  },
  {
   "cell_type": "code",
   "execution_count": 19,
   "metadata": {},
   "outputs": [],
   "source": [
    "m = DirDict(os.getcwd() + '/1')"
   ]
  },
  {
   "cell_type": "code",
   "execution_count": 20,
   "metadata": {},
   "outputs": [],
   "source": [
    "m[123] = 2344"
   ]
  },
  {
   "cell_type": "code",
   "execution_count": 21,
   "metadata": {},
   "outputs": [
    {
     "data": {
      "text/plain": [
       "[('123', '2344')]"
      ]
     },
     "execution_count": 21,
     "metadata": {},
     "output_type": "execute_result"
    }
   ],
   "source": [
    "m.items()"
   ]
  },
  {
   "cell_type": "code",
   "execution_count": 22,
   "metadata": {},
   "outputs": [],
   "source": [
    "m.update([(123,234),(223,555)])"
   ]
  },
  {
   "cell_type": "code",
   "execution_count": 23,
   "metadata": {},
   "outputs": [
    {
     "data": {
      "text/plain": [
       "[('123', '234'), ('223', '555')]"
      ]
     },
     "execution_count": 23,
     "metadata": {},
     "output_type": "execute_result"
    }
   ],
   "source": [
    "m.items()"
   ]
  },
  {
   "cell_type": "code",
   "execution_count": 24,
   "metadata": {},
   "outputs": [
    {
     "name": "stdout",
     "output_type": "stream",
     "text": [
      "['123', '223'] ['234', '555']\n"
     ]
    }
   ],
   "source": [
    "print(m.keys(),m.values())"
   ]
  },
  {
   "cell_type": "code",
   "execution_count": 25,
   "metadata": {},
   "outputs": [
    {
     "data": {
      "text/plain": [
       "'555'"
      ]
     },
     "execution_count": 25,
     "metadata": {},
     "output_type": "execute_result"
    }
   ],
   "source": [
    "m.pop(223)"
   ]
  },
  {
   "cell_type": "code",
   "execution_count": 26,
   "metadata": {},
   "outputs": [
    {
     "data": {
      "text/plain": [
       "[('123', '234')]"
      ]
     },
     "execution_count": 26,
     "metadata": {},
     "output_type": "execute_result"
    }
   ],
   "source": [
    "m.items()"
   ]
  },
  {
   "cell_type": "code",
   "execution_count": 27,
   "metadata": {},
   "outputs": [
    {
     "data": {
      "text/plain": [
       "'234'"
      ]
     },
     "execution_count": 27,
     "metadata": {},
     "output_type": "execute_result"
    }
   ],
   "source": [
    "m[123]"
   ]
  },
  {
   "cell_type": "code",
   "execution_count": 28,
   "metadata": {},
   "outputs": [
    {
     "data": {
      "text/plain": [
       "1"
      ]
     },
     "execution_count": 28,
     "metadata": {},
     "output_type": "execute_result"
    }
   ],
   "source": [
    "len(m)"
   ]
  },
  {
   "cell_type": "code",
   "execution_count": 29,
   "metadata": {},
   "outputs": [],
   "source": [
    "m.clear()"
   ]
  },
  {
   "cell_type": "code",
   "execution_count": 30,
   "metadata": {},
   "outputs": [
    {
     "data": {
      "text/plain": [
       "[]"
      ]
     },
     "execution_count": 30,
     "metadata": {},
     "output_type": "execute_result"
    }
   ],
   "source": [
    "m.items()"
   ]
  }
 ],
 "metadata": {
  "kernelspec": {
   "display_name": "Python 3",
   "language": "python",
   "name": "python3"
  },
  "language_info": {
   "codemirror_mode": {
    "name": "ipython",
    "version": 3
   },
   "file_extension": ".py",
   "mimetype": "text/x-python",
   "name": "python",
   "nbconvert_exporter": "python",
   "pygments_lexer": "ipython3",
   "version": "3.7.0"
  }
 },
 "nbformat": 4,
 "nbformat_minor": 2
}
