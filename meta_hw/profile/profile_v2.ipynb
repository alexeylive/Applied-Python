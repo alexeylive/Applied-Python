{
 "cells": [
  {
   "cell_type": "code",
   "execution_count": 22,
   "metadata": {},
   "outputs": [],
   "source": [
    "import time\n",
    "import inspect\n",
    "\n",
    "import time\n",
    "import inspect\n",
    "\n",
    "def profile_class(cls):\n",
    "    for meth in cls.__dict__:\n",
    "        attr = getattr(cls, meth)\n",
    "        if inspect.isfunction(attr):\n",
    "            setattr(cls,meth,profile_function(attr))\n",
    "    return cls\n",
    " \n",
    "def profile_function(function):\n",
    "    def wrapped(*args,**kwargs):\n",
    "        print(\"'{}' started\".format(function.__name__))\n",
    "        start_time = time.perf_counter()\n",
    "        res = function(*args,**kwargs)\n",
    "        period = round((time.perf_counter() - start_time),6)\n",
    "        print(\"'{}' finished in {} sec.\".format(function.__name__, period))\n",
    "        return res\n",
    "    return wrapped\n",
    " \n",
    "def profile(obj):\n",
    "    if inspect.isfunction(obj):\n",
    "        return profile_function(obj)\n",
    "    elif inspect.isclass(obj):\n",
    "        return profile_class(obj)\n",
    "        \n",
    "   \n",
    " \n",
    "@profile\n",
    "def foo(x):\n",
    "    return x**200\n",
    "\n",
    "@profile\n",
    "class Simple:\n",
    "    def __init__(self, count):\n",
    "        self.count = count\n",
    "    def double(self):\n",
    "        return self.count * 2"
   ]
  },
  {
   "cell_type": "code",
   "execution_count": 23,
   "metadata": {},
   "outputs": [
    {
     "name": "stdout",
     "output_type": "stream",
     "text": [
      "'foo' started\n",
      "'foo' finished in 2e-06 sec.\n"
     ]
    },
    {
     "data": {
      "text/plain": [
       "1"
      ]
     },
     "execution_count": 23,
     "metadata": {},
     "output_type": "execute_result"
    }
   ],
   "source": [
    "foo(1)"
   ]
  },
  {
   "cell_type": "code",
   "execution_count": 24,
   "metadata": {},
   "outputs": [
    {
     "name": "stdout",
     "output_type": "stream",
     "text": [
      "'__init__' started\n",
      "'__init__' finished in 2e-06 sec.\n"
     ]
    }
   ],
   "source": [
    "c = Simple(1)"
   ]
  },
  {
   "cell_type": "code",
   "execution_count": 25,
   "metadata": {},
   "outputs": [
    {
     "name": "stdout",
     "output_type": "stream",
     "text": [
      "'double' started\n",
      "'double' finished in 1e-06 sec.\n"
     ]
    },
    {
     "data": {
      "text/plain": [
       "2"
      ]
     },
     "execution_count": 25,
     "metadata": {},
     "output_type": "execute_result"
    }
   ],
   "source": [
    "c.double()"
   ]
  }
 ],
 "metadata": {
  "kernelspec": {
   "display_name": "Python 3",
   "language": "python",
   "name": "python3"
  },
  "language_info": {
   "codemirror_mode": {
    "name": "ipython",
    "version": 3
   },
   "file_extension": ".py",
   "mimetype": "text/x-python",
   "name": "python",
   "nbconvert_exporter": "python",
   "pygments_lexer": "ipython3",
   "version": "3.7.0"
  }
 },
 "nbformat": 4,
 "nbformat_minor": 2
}
