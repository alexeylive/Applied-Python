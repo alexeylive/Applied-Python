{
 "cells": [
  {
   "cell_type": "code",
   "execution_count": 28,
   "metadata": {},
   "outputs": [],
   "source": [
    "import time\n",
    "import inspect\n",
    " \n",
    "def profile(obj):\n",
    "    if inspect.isfunction(obj):\n",
    "        def wrapped(*args,**kwargs):\n",
    "            print(\"'{}' started\".format(obj.__name__))\n",
    "            start_time = time.perf_counter()\n",
    "            res = obj(*args,**kwargs)\n",
    "            period = round((time.perf_counter() - start_time),6)\n",
    "            print(\"'{}' finished in {} sec.\".format(obj.__name__, period))\n",
    "            return res\n",
    "        return wrapped\n",
    "   \n",
    "    elif inspect.isclass(obj):\n",
    "        for meth in obj.__dict__:\n",
    "            attr = getattr(obj, meth)\n",
    "            if inspect.isfunction(attr):\n",
    "                setattr(obj,meth,profile(attr))\n",
    "        return obj\n",
    "   \n",
    " \n",
    "@profile\n",
    "def foo(x):\n",
    "    return x**200\n",
    "\n",
    "@profile\n",
    "class Simple:\n",
    "    def __init__(self, count):\n",
    "        self.count = count\n",
    "    def double(self):\n",
    "        return self.count * 2"
   ]
  },
  {
   "cell_type": "code",
   "execution_count": 29,
   "metadata": {},
   "outputs": [
    {
     "name": "stdout",
     "output_type": "stream",
     "text": [
      "'__init__' started\n",
      "'__init__' finished in 3e-06 sec.\n"
     ]
    }
   ],
   "source": [
    "s = Simple(1)"
   ]
  },
  {
   "cell_type": "code",
   "execution_count": 30,
   "metadata": {},
   "outputs": [
    {
     "name": "stdout",
     "output_type": "stream",
     "text": [
      "'double' started\n",
      "'double' finished in 2e-06 sec.\n"
     ]
    },
    {
     "data": {
      "text/plain": [
       "2"
      ]
     },
     "execution_count": 30,
     "metadata": {},
     "output_type": "execute_result"
    }
   ],
   "source": [
    "s.double()"
   ]
  },
  {
   "cell_type": "code",
   "execution_count": 31,
   "metadata": {},
   "outputs": [
    {
     "name": "stdout",
     "output_type": "stream",
     "text": [
      "'foo' started\n",
      "'foo' finished in 2e-06 sec.\n"
     ]
    },
    {
     "data": {
      "text/plain": [
       "1"
      ]
     },
     "execution_count": 31,
     "metadata": {},
     "output_type": "execute_result"
    }
   ],
   "source": [
    "foo(1)"
   ]
  }
 ],
 "metadata": {
  "kernelspec": {
   "display_name": "Python 3",
   "language": "python",
   "name": "python3"
  },
  "language_info": {
   "codemirror_mode": {
    "name": "ipython",
    "version": 3
   },
   "file_extension": ".py",
   "mimetype": "text/x-python",
   "name": "python",
   "nbconvert_exporter": "python",
   "pygments_lexer": "ipython3",
   "version": "3.7.0"
  }
 },
 "nbformat": 4,
 "nbformat_minor": 2
}
